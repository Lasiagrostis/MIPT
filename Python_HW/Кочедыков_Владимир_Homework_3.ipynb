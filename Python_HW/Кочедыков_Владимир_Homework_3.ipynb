{
 "cells": [
  {
   "cell_type": "markdown",
   "metadata": {},
   "source": [
    "### Задача  \n",
    "Используя библиотеку pandas (или аналоги), проанализировать как можно больше характеристик, влияющих на успеваемость студентов."
   ]
  },
  {
   "cell_type": "markdown",
   "metadata": {},
   "source": [
    "Импортируем билиотеки, которые понадобятся для решения задачи"
   ]
  },
  {
   "cell_type": "code",
   "execution_count": 14,
   "metadata": {},
   "outputs": [],
   "source": [
    "import pandas as pd\n",
    "import numpy as np\n",
    "import matplotlib.pyplot as plt\n",
    "import seaborn as sns\n",
    "\n",
    "plt.rcParams['figure.figsize'] = [14, 7]"
   ]
  },
  {
   "cell_type": "code",
   "execution_count": 2,
   "metadata": {},
   "outputs": [
    {
     "name": "stdout",
     "output_type": "stream",
     "text": [
      "Размер датафрейма lectures: (418, 4)\n"
     ]
    },
    {
     "data": {
      "text/html": [
       "<div>\n",
       "<style scoped>\n",
       "    .dataframe tbody tr th:only-of-type {\n",
       "        vertical-align: middle;\n",
       "    }\n",
       "\n",
       "    .dataframe tbody tr th {\n",
       "        vertical-align: top;\n",
       "    }\n",
       "\n",
       "    .dataframe thead th {\n",
       "        text-align: right;\n",
       "    }\n",
       "</style>\n",
       "<table border=\"1\" class=\"dataframe\">\n",
       "  <thead>\n",
       "    <tr style=\"text-align: right;\">\n",
       "      <th></th>\n",
       "      <th>lecture_id</th>\n",
       "      <th>tag</th>\n",
       "      <th>part</th>\n",
       "      <th>type_of</th>\n",
       "    </tr>\n",
       "  </thead>\n",
       "  <tbody>\n",
       "    <tr>\n",
       "      <th>0</th>\n",
       "      <td>89</td>\n",
       "      <td>159</td>\n",
       "      <td>5</td>\n",
       "      <td>concept</td>\n",
       "    </tr>\n",
       "    <tr>\n",
       "      <th>1</th>\n",
       "      <td>100</td>\n",
       "      <td>70</td>\n",
       "      <td>1</td>\n",
       "      <td>concept</td>\n",
       "    </tr>\n",
       "    <tr>\n",
       "      <th>2</th>\n",
       "      <td>185</td>\n",
       "      <td>45</td>\n",
       "      <td>6</td>\n",
       "      <td>concept</td>\n",
       "    </tr>\n",
       "    <tr>\n",
       "      <th>3</th>\n",
       "      <td>192</td>\n",
       "      <td>79</td>\n",
       "      <td>5</td>\n",
       "      <td>solving question</td>\n",
       "    </tr>\n",
       "    <tr>\n",
       "      <th>4</th>\n",
       "      <td>317</td>\n",
       "      <td>156</td>\n",
       "      <td>5</td>\n",
       "      <td>solving question</td>\n",
       "    </tr>\n",
       "  </tbody>\n",
       "</table>\n",
       "</div>"
      ],
      "text/plain": [
       "   lecture_id  tag  part           type_of\n",
       "0          89  159     5           concept\n",
       "1         100   70     1           concept\n",
       "2         185   45     6           concept\n",
       "3         192   79     5  solving question\n",
       "4         317  156     5  solving question"
      ]
     },
     "execution_count": 2,
     "metadata": {},
     "output_type": "execute_result"
    }
   ],
   "source": [
    "lectures = pd.read_csv(\"lectures.csv\")\n",
    "print(f\"Размер датафрейма lectures: {lectures.shape}\")\n",
    "lectures.head()"
   ]
  },
  {
   "cell_type": "code",
   "execution_count": 3,
   "metadata": {},
   "outputs": [
    {
     "data": {
      "text/plain": [
       "type_of\n",
       "concept             222\n",
       "solving question    186\n",
       "intention             7\n",
       "starter               3\n",
       "Name: count, dtype: int64"
      ]
     },
     "execution_count": 3,
     "metadata": {},
     "output_type": "execute_result"
    }
   ],
   "source": [
    "lectures['type_of'].value_counts()"
   ]
  },
  {
   "cell_type": "code",
   "execution_count": 4,
   "metadata": {},
   "outputs": [
    {
     "name": "stdout",
     "output_type": "stream",
     "text": [
      "Размер датафрейма questions: (13523, 5)\n"
     ]
    },
    {
     "data": {
      "text/html": [
       "<div>\n",
       "<style scoped>\n",
       "    .dataframe tbody tr th:only-of-type {\n",
       "        vertical-align: middle;\n",
       "    }\n",
       "\n",
       "    .dataframe tbody tr th {\n",
       "        vertical-align: top;\n",
       "    }\n",
       "\n",
       "    .dataframe thead th {\n",
       "        text-align: right;\n",
       "    }\n",
       "</style>\n",
       "<table border=\"1\" class=\"dataframe\">\n",
       "  <thead>\n",
       "    <tr style=\"text-align: right;\">\n",
       "      <th></th>\n",
       "      <th>question_id</th>\n",
       "      <th>bundle_id</th>\n",
       "      <th>correct_answer</th>\n",
       "      <th>part</th>\n",
       "      <th>tags</th>\n",
       "    </tr>\n",
       "  </thead>\n",
       "  <tbody>\n",
       "    <tr>\n",
       "      <th>0</th>\n",
       "      <td>0</td>\n",
       "      <td>0</td>\n",
       "      <td>0</td>\n",
       "      <td>1</td>\n",
       "      <td>51 131 162 38</td>\n",
       "    </tr>\n",
       "    <tr>\n",
       "      <th>1</th>\n",
       "      <td>1</td>\n",
       "      <td>1</td>\n",
       "      <td>1</td>\n",
       "      <td>1</td>\n",
       "      <td>131 36 81</td>\n",
       "    </tr>\n",
       "    <tr>\n",
       "      <th>2</th>\n",
       "      <td>2</td>\n",
       "      <td>2</td>\n",
       "      <td>0</td>\n",
       "      <td>1</td>\n",
       "      <td>131 101 162 92</td>\n",
       "    </tr>\n",
       "    <tr>\n",
       "      <th>3</th>\n",
       "      <td>3</td>\n",
       "      <td>3</td>\n",
       "      <td>0</td>\n",
       "      <td>1</td>\n",
       "      <td>131 149 162 29</td>\n",
       "    </tr>\n",
       "    <tr>\n",
       "      <th>4</th>\n",
       "      <td>4</td>\n",
       "      <td>4</td>\n",
       "      <td>3</td>\n",
       "      <td>1</td>\n",
       "      <td>131 5 162 38</td>\n",
       "    </tr>\n",
       "  </tbody>\n",
       "</table>\n",
       "</div>"
      ],
      "text/plain": [
       "   question_id  bundle_id  correct_answer  part            tags\n",
       "0            0          0               0     1   51 131 162 38\n",
       "1            1          1               1     1       131 36 81\n",
       "2            2          2               0     1  131 101 162 92\n",
       "3            3          3               0     1  131 149 162 29\n",
       "4            4          4               3     1    131 5 162 38"
      ]
     },
     "execution_count": 4,
     "metadata": {},
     "output_type": "execute_result"
    }
   ],
   "source": [
    "questions = pd.read_csv(\"questions.csv\")\n",
    "print(f\"Размер датафрейма questions: {questions.shape}\")\n",
    "questions.head()"
   ]
  },
  {
   "cell_type": "markdown",
   "metadata": {},
   "source": [
    "Теги представлены в вид строки, но кажется должны быть в формате списка. Не знаю зачем, но преобразуем"
   ]
  },
  {
   "cell_type": "code",
   "execution_count": 5,
   "metadata": {},
   "outputs": [],
   "source": [
    "questions['tags'] = questions['tags'].str.split(\" \")"
   ]
  },
  {
   "cell_type": "markdown",
   "metadata": {},
   "source": [
    "Считываем основной датафрейм. Указываем типы данных, чтобы уменьшить потребление оперативной памяти"
   ]
  },
  {
   "cell_type": "code",
   "execution_count": 6,
   "metadata": {},
   "outputs": [
    {
     "data": {
      "text/html": [
       "<div>\n",
       "<style scoped>\n",
       "    .dataframe tbody tr th:only-of-type {\n",
       "        vertical-align: middle;\n",
       "    }\n",
       "\n",
       "    .dataframe tbody tr th {\n",
       "        vertical-align: top;\n",
       "    }\n",
       "\n",
       "    .dataframe thead th {\n",
       "        text-align: right;\n",
       "    }\n",
       "</style>\n",
       "<table border=\"1\" class=\"dataframe\">\n",
       "  <thead>\n",
       "    <tr style=\"text-align: right;\">\n",
       "      <th></th>\n",
       "      <th>row_id</th>\n",
       "      <th>timestamp</th>\n",
       "      <th>user_id</th>\n",
       "      <th>content_id</th>\n",
       "      <th>content_type_id</th>\n",
       "      <th>task_container_id</th>\n",
       "      <th>user_answer</th>\n",
       "      <th>answered_correctly</th>\n",
       "      <th>prior_question_elapsed_time</th>\n",
       "      <th>prior_question_had_explanation</th>\n",
       "    </tr>\n",
       "  </thead>\n",
       "  <tbody>\n",
       "    <tr>\n",
       "      <th>0</th>\n",
       "      <td>0</td>\n",
       "      <td>0</td>\n",
       "      <td>115</td>\n",
       "      <td>5692</td>\n",
       "      <td>False</td>\n",
       "      <td>1</td>\n",
       "      <td>3</td>\n",
       "      <td>1</td>\n",
       "      <td>NaN</td>\n",
       "      <td>&lt;NA&gt;</td>\n",
       "    </tr>\n",
       "    <tr>\n",
       "      <th>1</th>\n",
       "      <td>1</td>\n",
       "      <td>56943</td>\n",
       "      <td>115</td>\n",
       "      <td>5716</td>\n",
       "      <td>False</td>\n",
       "      <td>2</td>\n",
       "      <td>2</td>\n",
       "      <td>1</td>\n",
       "      <td>37000.0</td>\n",
       "      <td>False</td>\n",
       "    </tr>\n",
       "    <tr>\n",
       "      <th>2</th>\n",
       "      <td>2</td>\n",
       "      <td>118363</td>\n",
       "      <td>115</td>\n",
       "      <td>128</td>\n",
       "      <td>False</td>\n",
       "      <td>0</td>\n",
       "      <td>0</td>\n",
       "      <td>1</td>\n",
       "      <td>55000.0</td>\n",
       "      <td>False</td>\n",
       "    </tr>\n",
       "    <tr>\n",
       "      <th>3</th>\n",
       "      <td>3</td>\n",
       "      <td>131167</td>\n",
       "      <td>115</td>\n",
       "      <td>7860</td>\n",
       "      <td>False</td>\n",
       "      <td>3</td>\n",
       "      <td>0</td>\n",
       "      <td>1</td>\n",
       "      <td>19000.0</td>\n",
       "      <td>False</td>\n",
       "    </tr>\n",
       "    <tr>\n",
       "      <th>4</th>\n",
       "      <td>4</td>\n",
       "      <td>137965</td>\n",
       "      <td>115</td>\n",
       "      <td>7922</td>\n",
       "      <td>False</td>\n",
       "      <td>4</td>\n",
       "      <td>1</td>\n",
       "      <td>1</td>\n",
       "      <td>11000.0</td>\n",
       "      <td>False</td>\n",
       "    </tr>\n",
       "    <tr>\n",
       "      <th>...</th>\n",
       "      <td>...</td>\n",
       "      <td>...</td>\n",
       "      <td>...</td>\n",
       "      <td>...</td>\n",
       "      <td>...</td>\n",
       "      <td>...</td>\n",
       "      <td>...</td>\n",
       "      <td>...</td>\n",
       "      <td>...</td>\n",
       "      <td>...</td>\n",
       "    </tr>\n",
       "    <tr>\n",
       "      <th>101230327</th>\n",
       "      <td>101230327</td>\n",
       "      <td>428564420</td>\n",
       "      <td>2147482888</td>\n",
       "      <td>3586</td>\n",
       "      <td>False</td>\n",
       "      <td>22</td>\n",
       "      <td>0</td>\n",
       "      <td>1</td>\n",
       "      <td>18000.0</td>\n",
       "      <td>True</td>\n",
       "    </tr>\n",
       "    <tr>\n",
       "      <th>101230328</th>\n",
       "      <td>101230328</td>\n",
       "      <td>428585000</td>\n",
       "      <td>2147482888</td>\n",
       "      <td>6341</td>\n",
       "      <td>False</td>\n",
       "      <td>23</td>\n",
       "      <td>3</td>\n",
       "      <td>1</td>\n",
       "      <td>14000.0</td>\n",
       "      <td>True</td>\n",
       "    </tr>\n",
       "    <tr>\n",
       "      <th>101230329</th>\n",
       "      <td>101230329</td>\n",
       "      <td>428613475</td>\n",
       "      <td>2147482888</td>\n",
       "      <td>4212</td>\n",
       "      <td>False</td>\n",
       "      <td>24</td>\n",
       "      <td>3</td>\n",
       "      <td>1</td>\n",
       "      <td>14000.0</td>\n",
       "      <td>True</td>\n",
       "    </tr>\n",
       "    <tr>\n",
       "      <th>101230330</th>\n",
       "      <td>101230330</td>\n",
       "      <td>428649406</td>\n",
       "      <td>2147482888</td>\n",
       "      <td>6343</td>\n",
       "      <td>False</td>\n",
       "      <td>25</td>\n",
       "      <td>1</td>\n",
       "      <td>0</td>\n",
       "      <td>22000.0</td>\n",
       "      <td>True</td>\n",
       "    </tr>\n",
       "    <tr>\n",
       "      <th>101230331</th>\n",
       "      <td>101230331</td>\n",
       "      <td>428692118</td>\n",
       "      <td>2147482888</td>\n",
       "      <td>7995</td>\n",
       "      <td>False</td>\n",
       "      <td>26</td>\n",
       "      <td>3</td>\n",
       "      <td>1</td>\n",
       "      <td>29000.0</td>\n",
       "      <td>True</td>\n",
       "    </tr>\n",
       "  </tbody>\n",
       "</table>\n",
       "<p>101230332 rows × 10 columns</p>\n",
       "</div>"
      ],
      "text/plain": [
       "              row_id  timestamp     user_id  content_id  content_type_id  \\\n",
       "0                  0          0         115        5692            False   \n",
       "1                  1      56943         115        5716            False   \n",
       "2                  2     118363         115         128            False   \n",
       "3                  3     131167         115        7860            False   \n",
       "4                  4     137965         115        7922            False   \n",
       "...              ...        ...         ...         ...              ...   \n",
       "101230327  101230327  428564420  2147482888        3586            False   \n",
       "101230328  101230328  428585000  2147482888        6341            False   \n",
       "101230329  101230329  428613475  2147482888        4212            False   \n",
       "101230330  101230330  428649406  2147482888        6343            False   \n",
       "101230331  101230331  428692118  2147482888        7995            False   \n",
       "\n",
       "           task_container_id  user_answer  answered_correctly  \\\n",
       "0                          1            3                   1   \n",
       "1                          2            2                   1   \n",
       "2                          0            0                   1   \n",
       "3                          3            0                   1   \n",
       "4                          4            1                   1   \n",
       "...                      ...          ...                 ...   \n",
       "101230327                 22            0                   1   \n",
       "101230328                 23            3                   1   \n",
       "101230329                 24            3                   1   \n",
       "101230330                 25            1                   0   \n",
       "101230331                 26            3                   1   \n",
       "\n",
       "           prior_question_elapsed_time  prior_question_had_explanation  \n",
       "0                                  NaN                            <NA>  \n",
       "1                              37000.0                           False  \n",
       "2                              55000.0                           False  \n",
       "3                              19000.0                           False  \n",
       "4                              11000.0                           False  \n",
       "...                                ...                             ...  \n",
       "101230327                      18000.0                            True  \n",
       "101230328                      14000.0                            True  \n",
       "101230329                      14000.0                            True  \n",
       "101230330                      22000.0                            True  \n",
       "101230331                      29000.0                            True  \n",
       "\n",
       "[101230332 rows x 10 columns]"
      ]
     },
     "execution_count": 6,
     "metadata": {},
     "output_type": "execute_result"
    }
   ],
   "source": [
    "dtypes = {\n",
    "    \"row_id\": \"int64\",\n",
    "    \"timestamp\": \"int64\",\n",
    "    \"user_id\": \"int32\",\n",
    "    \"content_id\": \"int16\",\n",
    "    \"content_type_id\": \"boolean\",\n",
    "    \"task_container_id\": \"int16\",\n",
    "    \"user_answer\": \"int8\",\n",
    "    \"answered_correctly\": \"int8\",\n",
    "    \"prior_question_elapsed_time\": \"float32\", \n",
    "    \"prior_question_had_explanation\": \"boolean\"\n",
    "}\n",
    "\n",
    "df = pd.read_csv(\"train.csv\",  dtype=dtypes)\n",
    "df"
   ]
  },
  {
   "cell_type": "markdown",
   "metadata": {},
   "source": [
    "Нас не интересуют колонки `row_id` (так как уже есть индекс) и `user_answer`, так как мы ни с чем не сможем его связать. Единственное, мы можем проверить, всегда ли если `user_answer` == `correct_answer` из файла **questions.csv**, то колонка `answered_correctly` принимает значение 1. Но предположим, что здесь проблем нет  \n",
    "`content_id` так же не будем использовать, поэтому удалим для экономии места"
   ]
  },
  {
   "cell_type": "code",
   "execution_count": 7,
   "metadata": {},
   "outputs": [],
   "source": [
    "df = df.drop(columns=[\"row_id\", \"user_answer\", \"content_id\"])"
   ]
  },
  {
   "cell_type": "markdown",
   "metadata": {},
   "source": [
    "Посмотрим на пропуски в данных"
   ]
  },
  {
   "cell_type": "code",
   "execution_count": 8,
   "metadata": {},
   "outputs": [
    {
     "data": {
      "text/plain": [
       "timestamp                               0\n",
       "user_id                                 0\n",
       "content_type_id                         0\n",
       "task_container_id                       0\n",
       "answered_correctly                      0\n",
       "prior_question_elapsed_time       2351538\n",
       "prior_question_had_explanation     392506\n",
       "dtype: int64"
      ]
     },
     "execution_count": 8,
     "metadata": {},
     "output_type": "execute_result"
    }
   ],
   "source": [
    "df.isna().sum()"
   ]
  },
  {
   "cell_type": "markdown",
   "metadata": {},
   "source": [
    "Далее оценим распределение всех числовых и категориальных переменных. Кроме, конечно, user_id"
   ]
  },
  {
   "cell_type": "code",
   "execution_count": 15,
   "metadata": {},
   "outputs": [
    {
     "data": {
      "image/png": "[encoded data removed]",
      "text/plain": [
       "<Figure size 1008x504 with 4 Axes>"
      ]
     },
     "metadata": {
      "needs_background": "light"
     },
     "output_type": "display_data"
    },
    {
     "data": {
      "image/png": "[encoded data removed]",
      "text/plain": [
       "<Figure size 1008x504 with 1 Axes>"
      ]
     },
     "metadata": {
      "needs_background": "light"
     },
     "output_type": "display_data"
    }
   ],
   "source": [
    "num_cols = [\"timestamp\", \"task_container_id\", \"prior_question_elapsed_time\"]\n",
    "cat_cols = [\"answered_correctly\"]\n",
    "df[num_cols].hist(bins=30, color='steelblue')\n",
    "plt.suptitle(f'Распределение {\", \".join(num_cols)}', size=16)\n",
    "plt.show()\n",
    "\n",
    "# Распределение категориальных переменных\n",
    "for col in cat_cols:\n",
    "    sns.countplot(data=df, x=col)\n",
    "    plt.title(f'Распределение {col}', size=16)\n",
    "    plt.show()"
   ]
  },
  {
   "cell_type": "markdown",
   "metadata": {},
   "source": [
    "По задаче нам нужно найти параметры, влияющие на успеваемость. Однако вопрос: что считать успеваемостью. Явной колонки с таким значением у нас нет, поэтому мы вынуждены расчитать её самостоятельно. Примем за *успеваемость* долю правильных ответов среди всех ответов студента  \n",
    "Однако вспомним, что колонка `answered_correctly` может принимать значение -1 для лекций, поэтому преобразуем её в NaN"
   ]
  },
  {
   "cell_type": "code",
   "execution_count": 9,
   "metadata": {},
   "outputs": [],
   "source": [
    "df['answered_correctly'] = df['answered_correctly'].where(df['answered_correctly'] != -1)"
   ]
  },
  {
   "cell_type": "markdown",
   "metadata": {},
   "source": [
    "Теперь найдём успеваемость для каждого студента, а так же число просмотренных лекций (`content_type_id`), усреднённые показатели по времени решения задачи (`prior_question_elapsed_time`), число пройденных тестов (`task_container_id`), долю использований объяснений в задачах (`prior_question_had_explanation`)"
   ]
  },
  {
   "cell_type": "code",
   "execution_count": 10,
   "metadata": {},
   "outputs": [
    {
     "data": {
      "text/html": [
       "<div>\n",
       "<style scoped>\n",
       "    .dataframe tbody tr th:only-of-type {\n",
       "        vertical-align: middle;\n",
       "    }\n",
       "\n",
       "    .dataframe tbody tr th {\n",
       "        vertical-align: top;\n",
       "    }\n",
       "\n",
       "    .dataframe thead th {\n",
       "        text-align: right;\n",
       "    }\n",
       "</style>\n",
       "<table border=\"1\" class=\"dataframe\">\n",
       "  <thead>\n",
       "    <tr style=\"text-align: right;\">\n",
       "      <th></th>\n",
       "      <th>user_id</th>\n",
       "      <th>grade</th>\n",
       "      <th>lections</th>\n",
       "      <th>total_tests</th>\n",
       "      <th>time_per_question</th>\n",
       "      <th>explanation_usage</th>\n",
       "    </tr>\n",
       "  </thead>\n",
       "  <tbody>\n",
       "    <tr>\n",
       "      <th>0</th>\n",
       "      <td>115</td>\n",
       "      <td>0.695652</td>\n",
       "      <td>0</td>\n",
       "      <td>42</td>\n",
       "      <td>19933.310547</td>\n",
       "      <td>0.133333</td>\n",
       "    </tr>\n",
       "    <tr>\n",
       "      <th>1</th>\n",
       "      <td>124</td>\n",
       "      <td>0.233333</td>\n",
       "      <td>0</td>\n",
       "      <td>16</td>\n",
       "      <td>18793.000000</td>\n",
       "      <td>0.0</td>\n",
       "    </tr>\n",
       "    <tr>\n",
       "      <th>2</th>\n",
       "      <td>2746</td>\n",
       "      <td>0.578947</td>\n",
       "      <td>1</td>\n",
       "      <td>20</td>\n",
       "      <td>18055.554688</td>\n",
       "      <td>0.578947</td>\n",
       "    </tr>\n",
       "    <tr>\n",
       "      <th>3</th>\n",
       "      <td>5382</td>\n",
       "      <td>0.672000</td>\n",
       "      <td>3</td>\n",
       "      <td>128</td>\n",
       "      <td>36048.386719</td>\n",
       "      <td>0.889764</td>\n",
       "    </tr>\n",
       "    <tr>\n",
       "      <th>4</th>\n",
       "      <td>8623</td>\n",
       "      <td>0.642202</td>\n",
       "      <td>3</td>\n",
       "      <td>100</td>\n",
       "      <td>26107.408203</td>\n",
       "      <td>0.864865</td>\n",
       "    </tr>\n",
       "    <tr>\n",
       "      <th>...</th>\n",
       "      <td>...</td>\n",
       "      <td>...</td>\n",
       "      <td>...</td>\n",
       "      <td>...</td>\n",
       "      <td>...</td>\n",
       "      <td>...</td>\n",
       "    </tr>\n",
       "    <tr>\n",
       "      <th>393651</th>\n",
       "      <td>2147470770</td>\n",
       "      <td>0.765487</td>\n",
       "      <td>2</td>\n",
       "      <td>214</td>\n",
       "      <td>23167.382812</td>\n",
       "      <td>0.859031</td>\n",
       "    </tr>\n",
       "    <tr>\n",
       "      <th>393652</th>\n",
       "      <td>2147470777</td>\n",
       "      <td>0.691489</td>\n",
       "      <td>6</td>\n",
       "      <td>482</td>\n",
       "      <td>20028.103516</td>\n",
       "      <td>0.952444</td>\n",
       "    </tr>\n",
       "    <tr>\n",
       "      <th>393653</th>\n",
       "      <td>2147481750</td>\n",
       "      <td>0.760000</td>\n",
       "      <td>0</td>\n",
       "      <td>50</td>\n",
       "      <td>17938.775391</td>\n",
       "      <td>0.795918</td>\n",
       "    </tr>\n",
       "    <tr>\n",
       "      <th>393654</th>\n",
       "      <td>2147482216</td>\n",
       "      <td>0.643636</td>\n",
       "      <td>5</td>\n",
       "      <td>280</td>\n",
       "      <td>19562.042969</td>\n",
       "      <td>0.953405</td>\n",
       "    </tr>\n",
       "    <tr>\n",
       "      <th>393655</th>\n",
       "      <td>2147482888</td>\n",
       "      <td>0.555556</td>\n",
       "      <td>0</td>\n",
       "      <td>27</td>\n",
       "      <td>27192.308594</td>\n",
       "      <td>0.730769</td>\n",
       "    </tr>\n",
       "  </tbody>\n",
       "</table>\n",
       "<p>393656 rows × 6 columns</p>\n",
       "</div>"
      ],
      "text/plain": [
       "           user_id     grade  lections  total_tests  time_per_question  \\\n",
       "0              115  0.695652         0           42       19933.310547   \n",
       "1              124  0.233333         0           16       18793.000000   \n",
       "2             2746  0.578947         1           20       18055.554688   \n",
       "3             5382  0.672000         3          128       36048.386719   \n",
       "4             8623  0.642202         3          100       26107.408203   \n",
       "...            ...       ...       ...          ...                ...   \n",
       "393651  2147470770  0.765487         2          214       23167.382812   \n",
       "393652  2147470777  0.691489         6          482       20028.103516   \n",
       "393653  2147481750  0.760000         0           50       17938.775391   \n",
       "393654  2147482216  0.643636         5          280       19562.042969   \n",
       "393655  2147482888  0.555556         0           27       27192.308594   \n",
       "\n",
       "        explanation_usage  \n",
       "0                0.133333  \n",
       "1                     0.0  \n",
       "2                0.578947  \n",
       "3                0.889764  \n",
       "4                0.864865  \n",
       "...                   ...  \n",
       "393651           0.859031  \n",
       "393652           0.952444  \n",
       "393653           0.795918  \n",
       "393654           0.953405  \n",
       "393655           0.730769  \n",
       "\n",
       "[393656 rows x 6 columns]"
      ]
     },
     "execution_count": 10,
     "metadata": {},
     "output_type": "execute_result"
    }
   ],
   "source": [
    "students = df.groupby(\"user_id\", as_index=False).agg(grade=(\"answered_correctly\", \"mean\"),\n",
    "                                                     lections=(\"content_type_id\", \"sum\"),\n",
    "                                                     total_tests=(\"task_container_id\", \"nunique\"),\n",
    "                                                     time_per_question=(\"prior_question_elapsed_time\", \"mean\"),\n",
    "                                                     explanation_usage=(\"prior_question_had_explanation\", \"mean\"))\n",
    "students"
   ]
  },
  {
   "cell_type": "code",
   "execution_count": 16,
   "metadata": {},
   "outputs": [
    {
     "data": {
      "image/png": "[encoded data removed]",
      "text/plain": [
       "<Figure size 1440x720 with 6 Axes>"
      ]
     },
     "metadata": {
      "needs_background": "light"
     },
     "output_type": "display_data"
    }
   ],
   "source": [
    "students.hist(bins=30, color='steelblue', figsize=(20, 10))\n",
    "plt.suptitle(f'Распределение параметров пользователей', size=16)\n",
    "plt.show()"
   ]
  },
  {
   "cell_type": "markdown",
   "metadata": {},
   "source": [
    "- Заметим, что большая часть студентов посещает очень мало лекций. Аналогично с тестами  \n",
    "- Среднее время ответа на вопрос имеет нормальное распределение\n",
    "- Студенты нередко используют пояснения к вопросам"
   ]
  },
  {
   "cell_type": "markdown",
   "metadata": {},
   "source": [
    "Оценим как переменные коррелируют между собой"
   ]
  },
  {
   "cell_type": "code",
   "execution_count": 17,
   "metadata": {},
   "outputs": [
    {
     "data": {
      "text/plain": [
       "Text(0.5, 1.0, 'Матрица корреляции')"
      ]
     },
     "execution_count": 17,
     "metadata": {},
     "output_type": "execute_result"
    },
    {
     "data": {
      "image/png": "[encoded data removed]",
      "text/plain": [
       "<Figure size 1008x504 with 2 Axes>"
      ]
     },
     "metadata": {
      "needs_background": "light"
     },
     "output_type": "display_data"
    }
   ],
   "source": [
    "sns.heatmap(students.corr(), annot=True)\n",
    "plt.title(\"Матрица корреляции\", size=20)"
   ]
  },
  {
   "cell_type": "markdown",
   "metadata": {},
   "source": [
    "Из расчитанных нами переменных только частота использования объяснений к вопросам явно коррелирует с успеваемостью. В принципе, это кажется логичным. Так же слабая корреляция с нашей целевой переменной у числа прослушанных лекций и количества решённых тестов. Построим модель линейной регрессии"
   ]
  },
  {
   "cell_type": "markdown",
   "metadata": {},
   "source": [
    "Перед применением регрессии посмотрим были ли пропуски в колонках. Удалим"
   ]
  },
  {
   "cell_type": "code",
   "execution_count": 18,
   "metadata": {},
   "outputs": [
    {
     "name": "stdout",
     "output_type": "stream",
     "text": [
      "user_id               0\n",
      "grade                 0\n",
      "lections              0\n",
      "total_tests           0\n",
      "time_per_question    87\n",
      "explanation_usage    87\n",
      "dtype: int64\n"
     ]
    }
   ],
   "source": [
    "print(students.isna().sum())\n",
    "students = students.dropna()"
   ]
  },
  {
   "cell_type": "code",
   "execution_count": 19,
   "metadata": {},
   "outputs": [
    {
     "name": "stdout",
     "output_type": "stream",
     "text": [
      "                            OLS Regression Results                            \n",
      "==============================================================================\n",
      "Dep. Variable:                  grade   R-squared:                       0.297\n",
      "Model:                            OLS   Adj. R-squared:                  0.297\n",
      "Method:                 Least Squares   F-statistic:                 4.158e+04\n",
      "Date:                Sat, 19 Oct 2024   Prob (F-statistic):               0.00\n",
      "Time:                        20:48:55   Log-Likelihood:             2.2431e+05\n",
      "No. Observations:              393569   AIC:                        -4.486e+05\n",
      "Df Residuals:                  393564   BIC:                        -4.486e+05\n",
      "Df Model:                           4                                         \n",
      "Covariance Type:            nonrobust                                         \n",
      "=====================================================================================\n",
      "                        coef    std err          t      P>|t|      [0.025      0.975]\n",
      "-------------------------------------------------------------------------------------\n",
      "const                 0.4225      0.001    558.712      0.000       0.421       0.424\n",
      "explanation_usage     0.2420      0.001    365.521      0.000       0.241       0.243\n",
      "lections             -0.0006   2.22e-05    -27.253      0.000      -0.001      -0.001\n",
      "total_tests        3.291e-05   6.38e-07     51.606      0.000    3.17e-05    3.42e-05\n",
      "time_per_question -6.669e-07   2.75e-08    -24.227      0.000   -7.21e-07   -6.13e-07\n",
      "==============================================================================\n",
      "Omnibus:                     4485.628   Durbin-Watson:                   2.001\n",
      "Prob(Omnibus):                  0.000   Jarque-Bera (JB):             6586.157\n",
      "Skew:                           0.133   Prob(JB):                         0.00\n",
      "Kurtosis:                       3.575   Cond. No.                     9.78e+04\n",
      "==============================================================================\n",
      "\n",
      "Notes:\n",
      "[1] Standard Errors assume that the covariance matrix of the errors is correctly specified.\n",
      "[2] The condition number is large, 9.78e+04. This might indicate that there are\n",
      "strong multicollinearity or other numerical problems.\n"
     ]
    }
   ],
   "source": [
    "import statsmodels.api as sm\n",
    "# Преобразуем числа в единый формат, чтобы не ругалось\n",
    "students = students.astype(\"float\")\n",
    "# Определим целевую переменную (grade) и предикторы (все остальные столбцы, кроме user_id)\n",
    "X = students[['explanation_usage', 'lections', 'total_tests', 'time_per_question']]\n",
    "y = students['grade']\n",
    "X = sm.add_constant(X)\n",
    "model = sm.OLS(y, X).fit()\n",
    "\n",
    "print(model.summary())"
   ]
  },
  {
   "cell_type": "markdown",
   "metadata": {},
   "source": [
    "Во - первых, видим не совсем высокий уровень $R^2$ для модели  \n",
    "Во - вторых, вывод указывает на сильную мультиколлинеарность, что так же не очень хорошо. Чтобы повысить качество модели оставим два признака, которые имеют хоть сколько нибудь заметную корреляцию"
   ]
  },
  {
   "cell_type": "code",
   "execution_count": 25,
   "metadata": {},
   "outputs": [
    {
     "name": "stdout",
     "output_type": "stream",
     "text": [
      "                            OLS Regression Results                            \n",
      "==============================================================================\n",
      "Dep. Variable:                  grade   R-squared:                       0.291\n",
      "Model:                            OLS   Adj. R-squared:                  0.291\n",
      "Method:                 Least Squares   F-statistic:                 8.081e+04\n",
      "Date:                Sat, 19 Oct 2024   Prob (F-statistic):               0.00\n",
      "Time:                        20:50:08   Log-Likelihood:             2.2265e+05\n",
      "No. Observations:              393569   AIC:                        -4.453e+05\n",
      "Df Residuals:                  393566   BIC:                        -4.453e+05\n",
      "Df Model:                           2                                         \n",
      "Covariance Type:            nonrobust                                         \n",
      "=====================================================================================\n",
      "                        coef    std err          t      P>|t|      [0.025      0.975]\n",
      "-------------------------------------------------------------------------------------\n",
      "const                 0.4067      0.000    985.127      0.000       0.406       0.408\n",
      "explanation_usage     0.2460      0.001    374.154      0.000       0.245       0.247\n",
      "lections              0.0002   1.45e-05     16.412      0.000       0.000       0.000\n",
      "==============================================================================\n",
      "Omnibus:                     4558.731   Durbin-Watson:                   2.001\n",
      "Prob(Omnibus):                  0.000   Jarque-Bera (JB):             6557.990\n",
      "Skew:                           0.143   Prob(JB):                         0.00\n",
      "Kurtosis:                       3.564   Cond. No.                         57.3\n",
      "==============================================================================\n",
      "\n",
      "Notes:\n",
      "[1] Standard Errors assume that the covariance matrix of the errors is correctly specified.\n"
     ]
    }
   ],
   "source": [
    "X = students[['explanation_usage', 'lections']]\n",
    "y = students['grade']\n",
    "X = sm.add_constant(X)\n",
    "model = sm.OLS(y, X).fit()\n",
    "\n",
    "print(model.summary())"
   ]
  },
  {
   "cell_type": "markdown",
   "metadata": {},
   "source": [
    "Хотя модель объясняет лишь небольшую долю изменчивости переменной `grade`, так она хотя бы корректна  "
   ]
  },
  {
   "cell_type": "markdown",
   "metadata": {},
   "source": [
    "В итоге на успеваемость студентов влияет то, как часто они используют пояснение к предыдущей задаче. Число просмотренных лекций можно не учитывать из - за почти нулевого коэффициента корреляции"
   ]
  }
 ],
 "metadata": {
  "kernelspec": {
   "display_name": "Python 3",
   "language": "python",
   "name": "python3"
  },
  "language_info": {
   "codemirror_mode": {
    "name": "ipython",
    "version": 3
   },
   "file_extension": ".py",
   "mimetype": "text/x-python",
   "name": "python",
   "nbconvert_exporter": "python",
   "pygments_lexer": "ipython3",
   "version": "3.10.2"
  }
 },
 "nbformat": 4,
 "nbformat_minor": 2
}
